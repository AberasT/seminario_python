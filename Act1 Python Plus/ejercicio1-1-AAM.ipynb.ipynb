{
 "cells": [
  {
   "cell_type": "markdown",
   "id": "b015a19f",
   "metadata": {},
   "source": [
    "# Actividad 1 por Python plus\n"
   ]
  },
  {
   "cell_type": "markdown",
   "id": "b0d0ad1d",
   "metadata": {},
   "source": [
    "## Parte I: resolvé el siguiente desafío:"
   ]
  },
  {
   "cell_type": "markdown",
   "id": "8254357a",
   "metadata": {},
   "source": [
    "EJERCICIO 7: dado el archivo denominado [BBB_nuevo.csv](https://archivos.linti.unlp.edu.ar/index.php/s/q9b3rCrlhOS1yWU) que contiene los accesos al recurso BigBlueButton que usamos para las clases virtuales de la materia, se desea generar una función que retorne los 3 usuarios con menos actividad registrada."
   ]
  },
  {
   "cell_type": "code",
   "execution_count": 47,
   "id": "5021bb7c",
   "metadata": {},
   "outputs": [
    {
     "data": {
      "text/plain": [
       "['Hora',\n",
       " 'Nombre completo del usuario',\n",
       " 'Nombre evento',\n",
       " 'DescripciÃ³n',\n",
       " 'DirecciÃ³n IP']"
      ]
     },
     "execution_count": 47,
     "metadata": {},
     "output_type": "execute_result"
    }
   ],
   "source": [
    "#Solución\n",
    "## Asumo que la cantidad de actividad registrada de cada usuario es directamente la cantidad de accesos a BBB\n",
    "import csv\n",
    "import collections\n",
    "\n",
    "archivo = open(\"BBB_nuevo.csv\")\n",
    "csvreader = csv.reader(archivo,delimiter=\",\")\n",
    "\n",
    "encabezado = next(csvreader)\n",
    "encabezado"
   ]
  },
  {
   "cell_type": "markdown",
   "id": "8306dc63",
   "metadata": {},
   "source": [
    "Se observa que en el archivo, la segunda posicion (índice 1) indica el nombre de usuario. Se va a contar la cantidad de apariciones de cada nombre de usuario distinto, en esa columna del csv"
   ]
  },
  {
   "cell_type": "code",
   "execution_count": 48,
   "id": "002466b3",
   "metadata": {},
   "outputs": [],
   "source": [
    "def usuarios_menos_activos(csvreader):\n",
    "    ### Se toma como parámetro un archivo csv, que se usa con un Counter para devolver los últimos 3 usuarios ###\n",
    "    lista_usuarios = [x[1] for x in csvreader]\n",
    "    contador_menos_acceso = collections.Counter(lista_usuarios).most_common()[-3:]\n",
    "    menos_activos = [x[0] for x in contador_menos_acceso]\n",
    "    return menos_activos"
   ]
  },
  {
   "cell_type": "markdown",
   "id": "a15200a9",
   "metadata": {},
   "source": [
    "Con la función definida, se hace el llamado y se imprime el resultado"
   ]
  },
  {
   "cell_type": "code",
   "execution_count": 49,
   "id": "145849cc",
   "metadata": {},
   "outputs": [
    {
     "data": {
      "text/plain": [
       "['Poliwhirl', 'Pidgeot', 'Dodrio']"
      ]
     },
     "execution_count": 49,
     "metadata": {},
     "output_type": "execute_result"
    }
   ],
   "source": [
    "usuarios = usuarios_menos_activos(csvreader)\n",
    "usuarios\n",
    "\n",
    "archivo.close()"
   ]
  }
 ],
 "metadata": {
  "kernelspec": {
   "display_name": "Python 3 (ipykernel)",
   "language": "python",
   "name": "python3"
  },
  "language_info": {
   "codemirror_mode": {
    "name": "ipython",
    "version": 3
   },
   "file_extension": ".py",
   "mimetype": "text/x-python",
   "name": "python",
   "nbconvert_exporter": "python",
   "pygments_lexer": "ipython3",
   "version": "3.10.4"
  }
 },
 "nbformat": 4,
 "nbformat_minor": 5
}
