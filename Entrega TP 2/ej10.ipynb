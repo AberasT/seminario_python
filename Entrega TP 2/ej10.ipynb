{
 "cells": [
  {
   "cell_type": "markdown",
   "metadata": {},
   "source": [
    "#Entrega ejercicio 10 TP 2\n",
    "##Álvaro Aberastain Marzorati\n",
    "Trabajando con los contenidos de los archivos que pueden acceder en el curso:\n",
    "• nombres\n",
    "• eval1\n",
    "• eval2\n",
    "Manipule estos archivos para realizar lo siguiente:\n",
    "• Generar una estructura con los nombres de los estudiantes y la suma de ambas notas.\n",
    "• Calcular el promedio de las notas totales e informar que alumnos obtuvieron menos que el\n",
    "promedio."
   ]
  },
  {
   "cell_type": "markdown",
   "metadata": {},
   "source": [
    "##Manejo de archivos\n",
    "En la primera parte del programa se importa el módulo os, para luego trabajar con las rutas de los archivos sin depender la máquina y sistema operativo con el que se trabaje. \n",
    "Mediante el método \"getcwd\" se obtiene la ruta del working directory, y luego con \"join\" se terminan de formar las rutas correspondientes a los archivos que se requieren."
   ]
  },
  {
   "cell_type": "code",
   "execution_count": 19,
   "metadata": {},
   "outputs": [],
   "source": [
    "import os\n",
    "ruta = os.getcwd()\n",
    "ruta_archivos = os.path.join(ruta, \"archivos\")\n",
    "\n",
    "ruta_nombres = os.path.join(ruta_archivos, 'nombres_1.txt')\n",
    "ruta_eval1 = os.path.join(ruta_archivos, 'eval1.txt')\n",
    "ruta_eval2 = os.path.join(ruta_archivos, 'eval2.txt')"
   ]
  },
  {
   "cell_type": "markdown",
   "metadata": {},
   "source": [
    "Teniendo las rutas, se pueden abrir los archivos con la función open."
   ]
  },
  {
   "cell_type": "code",
   "execution_count": 20,
   "metadata": {},
   "outputs": [],
   "source": [
    "nombres = open(ruta_nombres, encoding=\"UTF-8\")\n",
    "eval1 = open(ruta_eval1, encoding=\"UTF-8\")\n",
    "eval2 = open(ruta_eval2, encoding=\"UTF-8\")\n"
   ]
  },
  {
   "cell_type": "markdown",
   "metadata": {},
   "source": [
    "Se trabajan los archivos generando estructuras de listas con el método \"split\", leyendo la información de cada uno y \"filtrando\" las comas y los saltos de línea."
   ]
  },
  {
   "cell_type": "code",
   "execution_count": 21,
   "metadata": {},
   "outputs": [],
   "source": [
    "\n",
    "lista_nombres = nombres.read().replace(\"'\",\"\").strip('\\n').split(',\\n')\n",
    "lista_eval1 = eval1.read().replace(\"'\",\"\").strip('\\n').split(',\\n')\n",
    "lista_eval2 = eval2.read().replace(\"'\",\"\").strip('\\n').split(',\\n')"
   ]
  },
  {
   "cell_type": "markdown",
   "metadata": {},
   "source": [
    "##Generación de la estructura de datos\n",
    "Se crea una lista de listas, en la que cada una se almacena el nombre del alumno junto a la suma de sus notas.\n",
    "Esto se logra iterando mediante un índice \"i\", para el acceso a las tres listas de información en simultáneo.\n",
    "Además, en ese bucle se acumulan los valores de las notas, para calcular el promedio de ellas."
   ]
  },
  {
   "cell_type": "code",
   "execution_count": 22,
   "metadata": {},
   "outputs": [],
   "source": [
    "listado_completo = []\n",
    "suma = 0\n",
    "for i in range(len(lista_nombres)):\n",
    "    item = (lista_nombres[i] , int(lista_eval1[i]) + int(lista_eval2[i]))\n",
    "    listado_completo.append(item)\n",
    "    suma += item[1]\n",
    "\n",
    "promedio = suma / len(listado_completo)"
   ]
  },
  {
   "cell_type": "markdown",
   "metadata": {},
   "source": [
    "##Filtrado de alumnos\n",
    "Para obtener e informar los alumnos cuya nota está por debajo del promedio, se utiliza la función \"filter\", en la que como argumentos se pasan una función lambda que evalúa esa condición y el listado completo.\n",
    "Así, en una nueva variable se guarda esa nueva lista."
   ]
  },
  {
   "cell_type": "code",
   "execution_count": 23,
   "metadata": {},
   "outputs": [],
   "source": [
    "listado_filtrado = filter(lambda item: item[1] < promedio, listado_completo)"
   ]
  },
  {
   "cell_type": "markdown",
   "metadata": {},
   "source": [
    "##Informe de los alumnos\n",
    "Se imprimen en consola los nombres del listado generado anteriormente."
   ]
  },
  {
   "cell_type": "code",
   "execution_count": 24,
   "metadata": {},
   "outputs": [
    {
     "name": "stdout",
     "output_type": "stream",
     "text": [
      " CESAR\n",
      " Diego\n",
      " Dolores\n",
      " DYLAN\n",
      " ELIANA\n",
      " Emanuel\n",
      " GONZALO\n",
      " Gregorio\n",
      " Ignacio\n",
      " Jonathan\n",
      " Jorge\n",
      " JUAN\n",
      " Julian\n",
      " Leonel\n",
      " Nicolás\n",
      " NICOLÁS\n",
      " Priscila\n",
      " Yanina\n"
     ]
    }
   ],
   "source": [
    "for item in listado_filtrado:\n",
    "    print(item[0])"
   ]
  },
  {
   "cell_type": "markdown",
   "metadata": {},
   "source": [
    "##Cierre de archivos"
   ]
  },
  {
   "cell_type": "code",
   "execution_count": 25,
   "metadata": {},
   "outputs": [],
   "source": [
    "nombres.close()\n",
    "eval1.close()\n",
    "eval2.close()"
   ]
  }
 ],
 "metadata": {
  "interpreter": {
   "hash": "b3e0d019cd9936929ea3ef3fbb01226d31f9bd79c58b70fc39654eb6316aa273"
  },
  "kernelspec": {
   "display_name": "Python 3.10.2 64-bit",
   "language": "python",
   "name": "python3"
  },
  "language_info": {
   "codemirror_mode": {
    "name": "ipython",
    "version": 3
   },
   "file_extension": ".py",
   "mimetype": "text/x-python",
   "name": "python",
   "nbconvert_exporter": "python",
   "pygments_lexer": "ipython3",
   "version": "3.10.4"
  },
  "orig_nbformat": 4
 },
 "nbformat": 4,
 "nbformat_minor": 2
}
